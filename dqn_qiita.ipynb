{
  "nbformat": 4,
  "nbformat_minor": 0,
  "metadata": {
    "colab": {
      "provenance": [],
      "mount_file_id": "1WoEDhtK57Rrb6elLKAxH4an18aDMsD5E",
      "authorship_tag": "ABX9TyNnngy0SCCfreFMbAIFQTQA",
      "include_colab_link": true
    },
    "kernelspec": {
      "name": "python3",
      "display_name": "Python 3"
    },
    "language_info": {
      "name": "python"
    }
  },
  "cells": [
    {
      "cell_type": "markdown",
      "metadata": {
        "id": "view-in-github",
        "colab_type": "text"
      },
      "source": [
        "<a href=\"https://colab.research.google.com/github/yuma-yuma1/dqn-quiita/blob/main/dqn_qiita.ipynb\" target=\"_parent\"><img src=\"https://colab.research.google.com/assets/colab-badge.svg\" alt=\"Open In Colab\"/></a>"
      ]
    },
    {
      "cell_type": "code",
      "source": [
        "#必要なライブラリのインポート\n",
        "!pip install gym\n",
        "!pip install torch\n",
        "!pip install numpy\n",
        "!pip install matplotlib\n",
        "!pip install random"
      ],
      "metadata": {
        "colab": {
          "base_uri": "https://localhost:8080/"
        },
        "id": "SOByT56LXUUM",
        "outputId": "6c26a5bf-216f-4e35-ceeb-2abe1f2e3898"
      },
      "execution_count": null,
      "outputs": [
        {
          "output_type": "stream",
          "name": "stdout",
          "text": [
            "Requirement already satisfied: gym in /usr/local/lib/python3.10/dist-packages (0.25.2)\n",
            "Requirement already satisfied: numpy>=1.18.0 in /usr/local/lib/python3.10/dist-packages (from gym) (1.26.4)\n",
            "Requirement already satisfied: cloudpickle>=1.2.0 in /usr/local/lib/python3.10/dist-packages (from gym) (2.2.1)\n",
            "Requirement already satisfied: gym-notices>=0.0.4 in /usr/local/lib/python3.10/dist-packages (from gym) (0.0.8)\n",
            "Requirement already satisfied: torch in /usr/local/lib/python3.10/dist-packages (2.4.1+cu121)\n",
            "Requirement already satisfied: filelock in /usr/local/lib/python3.10/dist-packages (from torch) (3.16.1)\n",
            "Requirement already satisfied: typing-extensions>=4.8.0 in /usr/local/lib/python3.10/dist-packages (from torch) (4.12.2)\n",
            "Requirement already satisfied: sympy in /usr/local/lib/python3.10/dist-packages (from torch) (1.13.3)\n",
            "Requirement already satisfied: networkx in /usr/local/lib/python3.10/dist-packages (from torch) (3.3)\n",
            "Requirement already satisfied: jinja2 in /usr/local/lib/python3.10/dist-packages (from torch) (3.1.4)\n",
            "Requirement already satisfied: fsspec in /usr/local/lib/python3.10/dist-packages (from torch) (2024.6.1)\n",
            "Requirement already satisfied: MarkupSafe>=2.0 in /usr/local/lib/python3.10/dist-packages (from jinja2->torch) (2.1.5)\n",
            "Requirement already satisfied: mpmath<1.4,>=1.1.0 in /usr/local/lib/python3.10/dist-packages (from sympy->torch) (1.3.0)\n",
            "Requirement already satisfied: numpy in /usr/local/lib/python3.10/dist-packages (1.26.4)\n",
            "Requirement already satisfied: matplotlib in /usr/local/lib/python3.10/dist-packages (3.7.1)\n",
            "Requirement already satisfied: contourpy>=1.0.1 in /usr/local/lib/python3.10/dist-packages (from matplotlib) (1.3.0)\n",
            "Requirement already satisfied: cycler>=0.10 in /usr/local/lib/python3.10/dist-packages (from matplotlib) (0.12.1)\n",
            "Requirement already satisfied: fonttools>=4.22.0 in /usr/local/lib/python3.10/dist-packages (from matplotlib) (4.53.1)\n",
            "Requirement already satisfied: kiwisolver>=1.0.1 in /usr/local/lib/python3.10/dist-packages (from matplotlib) (1.4.7)\n",
            "Requirement already satisfied: numpy>=1.20 in /usr/local/lib/python3.10/dist-packages (from matplotlib) (1.26.4)\n",
            "Requirement already satisfied: packaging>=20.0 in /usr/local/lib/python3.10/dist-packages (from matplotlib) (24.1)\n",
            "Requirement already satisfied: pillow>=6.2.0 in /usr/local/lib/python3.10/dist-packages (from matplotlib) (10.4.0)\n",
            "Requirement already satisfied: pyparsing>=2.3.1 in /usr/local/lib/python3.10/dist-packages (from matplotlib) (3.1.4)\n",
            "Requirement already satisfied: python-dateutil>=2.7 in /usr/local/lib/python3.10/dist-packages (from matplotlib) (2.8.2)\n",
            "Requirement already satisfied: six>=1.5 in /usr/local/lib/python3.10/dist-packages (from python-dateutil>=2.7->matplotlib) (1.16.0)\n",
            "\u001b[31mERROR: Could not find a version that satisfies the requirement random (from versions: none)\u001b[0m\u001b[31m\n",
            "\u001b[0m\u001b[31mERROR: No matching distribution found for random\u001b[0m\u001b[31m\n",
            "\u001b[0m"
          ]
        }
      ]
    },
    {
      "cell_type": "markdown",
      "source": [
        "次に必要なパラメータの設定"
      ],
      "metadata": {
        "id": "_NVO7qZtfHZC"
      }
    },
    {
      "cell_type": "code",
      "source": [
        "import gym\n",
        "import math\n",
        "import random\n",
        "import numpy as np\n",
        "from collections import deque\n",
        "import torch\n",
        "from torch import nn\n",
        "import torch.nn.functional as F\n",
        "\n",
        "GAMMA = 0.95                            #割引率\n",
        "LEARNING_RATE = 0.001                   #学習率\n",
        "MEMORY_SIZE = 1000000                   #リプレイバッファのサイズ。過去の経験を保存するための最大容量\n",
        "BATCH_SIZE = 64                        #学習時に一度にサンプリングするデータ数\n",
        "EPS_START = 1.0                        #ε-greedy法におけるεの初期値、\n",
        "EPS_END = 0.05                         #ε-greedy法におけるεの最終値、\n",
        "EPS_DECAY = 1000                       #ε-greedy法におけるεの減衰率\n",
        "TOTAL_TS = 10000                       #全体のステップ数\n",
        "SYNC_FREQ = 10                         #ターゲットネットワークを同期させる頻度\n",
        "seed = 2023                            #乱数シード\n",
        "\n",
        "#乱数シードの設定\n",
        "torch.cuda.manual_seed_all(seed)\n",
        "torch.backends.cudnn.deterministic = True\n",
        "torch.backends.cudnn.benchmark = False\n",
        "torch.manual_seed(seed)\n",
        "np.random.seed(seed)\n",
        "random.seed(seed)\n",
        "\n"
      ],
      "metadata": {
        "id": "EBvkogH0XUR_"
      },
      "execution_count": null,
      "outputs": []
    },
    {
      "cell_type": "code",
      "source": [
        "#リプレイバッファの定義(状態、行動、報酬、次の状態など)\n",
        "class ReplayBuffer(object):\n",
        "    def __init__(self, buffer_size):\n",
        "        self.buffer_size = buffer_size\n",
        "        self.buffer = []\n",
        "        self.index = 0\n",
        "\n",
        "#バッファに新しい経験を追加。バッファが満杯の場合は古い経験を上書き\n",
        "    def append(self, obj):\n",
        "        if self.size() > self.buffer_size:\n",
        "            print('buffer size larger than set value, trimming...')\n",
        "            self.buffer = self.buffer[(self.size() - self.buffer_size):]\n",
        "        elif self.size() == self.buffer_size:\n",
        "            self.buffer[self.index] = obj\n",
        "            self.index += 1\n",
        "            self.index %= self.buffer_size\n",
        "        else:\n",
        "            self.buffer.append(obj)\n",
        "\n",
        "    def size(self):\n",
        "        return len(self.buffer)\n",
        "\n",
        "    def sample(self, batch_size, device=\"cpu\"):#バッファからランダムにサンプリングし学習のために返す\n",
        "        if self.size() < batch_size:\n",
        "            batch = random.sample(self.buffer, self.size())\n",
        "        else:\n",
        "            batch = random.sample(self.buffer, batch_size)\n",
        "\n",
        "        res = []\n",
        "        for i in range(5):\n",
        "            k = np.stack(tuple(item[i] for item in batch), axis=0)\n",
        "            res.append(torch.tensor(k, device=device))\n",
        "        return res[0], res[1], res[2], res[3], res[4]\n"
      ],
      "metadata": {
        "id": "RzHLhj82XUPz"
      },
      "execution_count": null,
      "outputs": []
    },
    {
      "cell_type": "code",
      "source": [
        "device = \"cuda\" # \"cpu\"\n",
        "env = gym.make(\"CartPole-v1\")\n",
        "n_observations = env.observation_space.shape[0]#状態の次元数\n",
        "n_actions = env.action_space.n #可能な行動の数\n",
        "buffer = ReplayBuffer(buffer_size=MEMORY_SIZE)\n",
        "main_net = nn.Sequential(\n",
        "    nn.Linear(n_observations, 128), nn.ReLU(),\n",
        "    nn.Linear(128, 128), nn.ReLU(),\n",
        "    nn.Linear(128, n_actions)\n",
        ")\n",
        "criterion = nn.MSELoss()\n",
        "optimiser = torch.optim.Adam(main_net.parameters())\n",
        "\n",
        "from copy import deepcopy\n",
        "target_net = deepcopy(main_net)\n"
      ],
      "metadata": {
        "id": "Kd82uX65XUNP"
      },
      "execution_count": null,
      "outputs": []
    },
    {
      "cell_type": "code",
      "source": [
        "num_episode = global_ts = 0\n",
        "ep_rewards = list()\n",
        "while global_ts <= TOTAL_TS:\n",
        "    state, done = env.reset(), False\n",
        "    ep_reward, ep_ts = 0.0, 0\n",
        "    while not done:\n",
        "        eps = EPS_END + (EPS_START - EPS_END) * math.exp(-1. * global_ts / EPS_DECAY)\n",
        "        if np.random.rand() < eps:\n",
        "            action = np.random.choice(n_actions)\n",
        "        else:\n",
        "            with torch.no_grad():\n",
        "                q = main_net(torch.tensor(state[None, :])).detach().cpu().numpy()\n",
        "            action = np.argmax(q[0])\n",
        "\n",
        "        next_state, reward, done, info = env.step(action)\n",
        "        ep_reward += reward\n",
        "        reward = reward if not done else -reward\n",
        "        buffer.append((state, action, reward, next_state, done))\n",
        "        state = next_state\n",
        "        if done:\n",
        "            ep_rewards.append(ep_reward)\n",
        "            if (num_episode == 0) or ((num_episode + 1) % 50 == 0):\n",
        "                print(f\"Ep-{num_episode + 1} {global_ts + 1}/{TOTAL_TS} Eps: {eps:.2f}, Reward: {ep_reward}\")\n",
        "            break\n",
        "\n",
        "        if buffer.size() >= BATCH_SIZE:\n",
        "            obses_t, actions, rewards, obses_tp1, dones = buffer.sample(BATCH_SIZE)\n",
        "            # Optimize the model\n",
        "            with torch.no_grad():\n",
        "                target_q = target_net(obses_tp1).detach().max(1)[0]\n",
        "            target = rewards + GAMMA * target_q * (1 - dones.float())\n",
        "            val_t = main_net(obses_t).gather(1, actions.unsqueeze(1)).squeeze(1)\n",
        "            loss = F.mse_loss(val_t.float(), target.float())\n",
        "            optimiser.zero_grad()\n",
        "            loss.backward()\n",
        "            optimiser.step()\n",
        "\n",
        "            # Periodically sync the target and main networks\n",
        "            if (global_ts + 1) % SYNC_FREQ == 0:\n",
        "                target_net.load_state_dict(main_net.state_dict())\n",
        "        ep_ts += 1\n",
        "        global_ts += 1\n",
        "    num_episode += 1\n"
      ],
      "metadata": {
        "colab": {
          "base_uri": "https://localhost:8080/"
        },
        "id": "KIi3aMQoXUDx",
        "outputId": "bdcee13b-9960-4f30-c3b4-1f460f9aee20"
      },
      "execution_count": null,
      "outputs": [
        {
          "output_type": "stream",
          "name": "stdout",
          "text": [
            "Ep-1 13/10000 Eps: 0.99, Reward: 13.0\n",
            "Ep-50 5061/10000 Eps: 0.06, Reward: 156.0\n"
          ]
        }
      ]
    },
    {
      "cell_type": "code",
      "source": [
        "import matplotlib.pyplot as plt\n",
        "\n",
        "def moving_average(a, n=5) :\n",
        "    ret = np.cumsum(a, dtype=float)\n",
        "    ret[n:] = ret[n:] - ret[:-n]\n",
        "    return ret[n - 1:] / n\n",
        "\n",
        "plt.plot(moving_average(ep_rewards))\n",
        "plt.xlabel(\"#Episode\")\n",
        "plt.ylabel(\"Ep-Return\")\n"
      ],
      "metadata": {
        "colab": {
          "base_uri": "https://localhost:8080/",
          "height": 466
        },
        "id": "epwee2BTXbf-",
        "outputId": "c5677ec8-f8f0-43ba-ebcf-a52338e9cdb3"
      },
      "execution_count": null,
      "outputs": [
        {
          "output_type": "execute_result",
          "data": {
            "text/plain": [
              "Text(0, 0.5, 'Ep-Return')"
            ]
          },
          "metadata": {},
          "execution_count": 32
        },
        {
          "output_type": "display_data",
          "data": {
            "text/plain": [
              "<Figure size 640x480 with 1 Axes>"
            ],
            "image/png": "[encoded data removed]"
          },
          "metadata": {}
        }
      ]
    },
    {
      "cell_type": "markdown",
      "source": [],
      "metadata": {
        "id": "YqjoB4q_keay"
      }
    }
  ]
}